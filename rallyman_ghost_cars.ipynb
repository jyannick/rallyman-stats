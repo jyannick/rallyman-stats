{
 "nbformat": 4,
 "nbformat_minor": 2,
 "metadata": {
  "language_info": {
   "name": "python",
   "codemirror_mode": {
    "name": "ipython",
    "version": 3
   },
   "version": "3.6.6-final"
  },
  "orig_nbformat": 2,
  "file_extension": ".py",
  "mimetype": "text/x-python",
  "name": "python",
  "npconvert_exporter": "python",
  "pygments_lexer": "ipython3",
  "version": 3,
  "kernelspec": {
   "name": "python3",
   "display_name": "Python 3"
  }
 },
 "cells": [
  {
   "cell_type": "code",
   "execution_count": 84,
   "metadata": {},
   "outputs": [],
   "source": [
    "%run rallyman_ghost_cars_internals.ipynb"
   ]
  },
  {
   "cell_type": "markdown",
   "metadata": {},
   "source": [
    "# Definition of the die faces"
   ]
  },
  {
   "cell_type": "code",
   "execution_count": 85,
   "metadata": {},
   "outputs": [],
   "source": [
    "\n",
    "WHITE_DIE = Dice(gears  =[1,2,3,4,5,6],\n",
    "                 motions=[3,4,5,6,7,8])\n",
    "\n",
    "BLACK_DIE = Dice(gears  =[1,2,3,4,5,6],\n",
    "                 motions=[8,7,6,5,4,3])\n",
    ""
   ]
  },
  {
   "cell_type": "markdown",
   "metadata": {},
   "source": [
    "# Some simple commands..."
   ]
  },
  {
   "cell_type": "code",
   "execution_count": 86,
   "metadata": {},
   "outputs": [
    {
     "output_type": "execute_result",
     "data": {
      "text/plain": "DiceFace(gear=1, motion=8)"
     },
     "metadata": {},
     "execution_count": 86
    }
   ],
   "source": [
    "BLACK_DIE.roll()"
   ]
  },
  {
   "cell_type": "code",
   "execution_count": 87,
   "metadata": {},
   "outputs": [
    {
     "output_type": "execute_result",
     "data": {
      "text/plain": "[DiceFace(gear=5, motion=4),\n DiceFace(gear=6, motion=8),\n DiceFace(gear=1, motion=8),\n DiceFace(gear=3, motion=5),\n DiceFace(gear=6, motion=3),\n DiceFace(gear=3, motion=5),\n DiceFace(gear=4, motion=5),\n DiceFace(gear=1, motion=3),\n DiceFace(gear=4, motion=5),\n DiceFace(gear=1, motion=3),\n DiceFace(gear=6, motion=3),\n DiceFace(gear=1, motion=3),\n DiceFace(gear=6, motion=3),\n DiceFace(gear=3, motion=5),\n DiceFace(gear=1, motion=8)]"
     },
     "metadata": {},
     "execution_count": 87
    }
   ],
   "source": [
    "redGC = GhostCar(WHITE_DIE, BLACK_DIE)\n",
    "redGC.race(turns=15)"
   ]
  }
 ]
}