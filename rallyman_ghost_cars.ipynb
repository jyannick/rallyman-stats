{
 "nbformat": 4,
 "nbformat_minor": 2,
 "metadata": {
  "language_info": {
   "name": "python",
   "codemirror_mode": {
    "name": "ipython",
    "version": 3
   },
   "version": "3.6.6-final"
  },
  "orig_nbformat": 2,
  "file_extension": ".py",
  "mimetype": "text/x-python",
  "name": "python",
  "npconvert_exporter": "python",
  "pygments_lexer": "ipython3",
  "version": 3,
  "kernelspec": {
   "name": "python3",
   "display_name": "Python 3"
  }
 },
 "cells": [
  {
   "cell_type": "code",
   "execution_count": 75,
   "metadata": {},
   "outputs": [],
   "source": [
    "%run rallyman_ghost_cars_internals.ipynb"
   ]
  },
  {
   "cell_type": "markdown",
   "metadata": {},
   "source": [
    "# Definition of the dice faces"
   ]
  },
  {
   "cell_type": "code",
   "execution_count": 76,
   "metadata": {},
   "outputs": [],
   "source": [
    "\n",
    "WHITE_DIE = Dice(gears  =[1,2,3,4,5,6],\n",
    "                 motions=[3,4,5,6,7,8])\n",
    "\n",
    "BLACK_DIE = Dice(gears  =[1,2,3,4,5,6],\n",
    "                 motions=[8,7,6,5,4,3])\n",
    "redGC = GhostCar(WHITE_DIE, BLACK_DIE)"
   ]
  },
  {
   "cell_type": "code",
   "execution_count": 77,
   "metadata": {},
   "outputs": [
    {
     "output_type": "execute_result",
     "data": {
      "text/plain": "DiceFace(gear=3, motion=6)"
     },
     "metadata": {},
     "execution_count": 77
    }
   ],
   "source": [
    "BLACK_DIE.roll()"
   ]
  },
  {
   "cell_type": "code",
   "execution_count": 78,
   "metadata": {},
   "outputs": [
    {
     "output_type": "execute_result",
     "data": {
      "text/plain": "[8, 7, 6, 5, 4, 3]"
     },
     "metadata": {},
     "execution_count": 78
    }
   ],
   "source": [
    "BLACK_DIE.motions()"
   ]
  },
  {
   "cell_type": "code",
   "execution_count": 83,
   "metadata": {},
   "outputs": [
    {
     "output_type": "execute_result",
     "data": {
      "text/plain": "[DiceFace(gear=2, motion=7),\n DiceFace(gear=2, motion=4),\n DiceFace(gear=2, motion=7),\n DiceFace(gear=2, motion=4),\n DiceFace(gear=4, motion=5),\n DiceFace(gear=2, motion=4),\n DiceFace(gear=6, motion=3),\n DiceFace(gear=5, motion=7),\n DiceFace(gear=4, motion=5),\n DiceFace(gear=6, motion=8),\n DiceFace(gear=3, motion=6),\n DiceFace(gear=6, motion=8),\n DiceFace(gear=4, motion=5),\n DiceFace(gear=2, motion=4),\n DiceFace(gear=5, motion=4)]"
     },
     "metadata": {},
     "execution_count": 83
    }
   ],
   "source": [
    "\n",
    "redGC.race(turns=15)"
   ]
  }
 ]
}