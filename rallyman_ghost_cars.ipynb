{
 "nbformat": 4,
 "nbformat_minor": 2,
 "metadata": {
  "language_info": {
   "name": "python",
   "codemirror_mode": {
    "name": "ipython",
    "version": 3
   },
   "version": "3.6.6-final"
  },
  "orig_nbformat": 2,
  "file_extension": ".py",
  "mimetype": "text/x-python",
  "name": "python",
  "npconvert_exporter": "python",
  "pygments_lexer": "ipython3",
  "version": 3,
  "kernelspec": {
   "name": "python3",
   "display_name": "Python 3"
  }
 },
 "cells": [
  {
   "cell_type": "markdown",
   "metadata": {},
   "source": [
    "# Definition of the dice faces\n",
    "\n",
    "Each die face is between parentheses.\n",
    "Inside the parentheses:\n",
    "- the first number is the GEAR\n",
    "- the second number is the MOTION."
   ]
  },
  {
   "cell_type": "code",
   "execution_count": 8,
   "metadata": {},
   "outputs": [],
   "source": [
    "\n",
    "WHITE_DIE = [(1,3),(2,4),(3,5),(4,6),(5,7),(6,8)]\n",
    "BLACK_DIE = [(1,8),(2,7),(3,6),(4,5),(5,4),(6,3)]\n",
    ""
   ]
  },
  {
   "cell_type": "code",
   "execution_count": 9,
   "metadata": {},
   "outputs": [
    {
     "output_type": "stream",
     "name": "stdout",
     "text": "0\n"
    }
   ],
   "source": [
    "%run rallyman_ghost_cars_internals.ipynb\n",
    "print(GEAR_INDEX)"
   ]
  }
 ]
}