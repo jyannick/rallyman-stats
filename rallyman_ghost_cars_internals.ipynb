{
 "nbformat": 4,
 "nbformat_minor": 2,
 "metadata": {
  "language_info": {
   "name": "python",
   "codemirror_mode": {
    "name": "ipython",
    "version": 3
   },
   "version": "3.6.6-final"
  },
  "orig_nbformat": 2,
  "file_extension": ".py",
  "mimetype": "text/x-python",
  "name": "python",
  "npconvert_exporter": "python",
  "pygments_lexer": "ipython3",
  "version": 3,
  "kernelspec": {
   "name": "python3",
   "display_name": "Python 3"
  }
 },
 "cells": [
  {
   "cell_type": "code",
   "execution_count": 1,
   "metadata": {},
   "outputs": [],
   "source": [
    "from collections import namedtuple\n",
    "from typing import Iterable\n",
    "import random\n",
    "\n",
    "DiceFace = namedtuple(\"DiceFace\", [\"gear\", \"motion\"])\n",
    "\n",
    "class Dice():\n",
    "    def __init__(self, gears: Iterable[int], motions: Iterable[int]):\n",
    "        if not len(gears) == len(motions):\n",
    "            raise UserWarning(\"gears and motion must have the same length\") \n",
    "        self.faces = [DiceFace(gear, motion) for (gear, motion) in zip(gears, motions)]\n",
    "\n",
    "    def roll(self) -> DiceFace:\n",
    "        return random.choice(self.faces)\n",
    "\n",
    "    def gears(self) -> Iterable[int]:\n",
    "        return [face.gear for face in self.faces]\n",
    "\n",
    "    def motions(self) -> Iterable[int]:\n",
    "        return [face.motion for face in self.faces]      \n",
    "\n",
    "class GhostCar():\n",
    "    def __init__(self, white_die, black_die):\n",
    "        self.white_die = white_die\n",
    "        self.black_die = black_die\n",
    "\n",
    "    def race(self, turns=10):\n",
    "        return [self.black_die.roll() if turn % 2 == 0 else self.white_die.roll()\n",
    "                 for turn in range(turns)]\n"
   ]
  }
 ]
}